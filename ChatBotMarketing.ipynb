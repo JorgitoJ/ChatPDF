{
  "nbformat": 4,
  "nbformat_minor": 0,
  "metadata": {
    "colab": {
      "provenance": [],
      "authorship_tag": "ABX9TyO5ZZh8qCfb6mbYXtalyh1i",
      "include_colab_link": true
    },
    "kernelspec": {
      "name": "python3",
      "display_name": "Python 3"
    },
    "language_info": {
      "name": "python"
    }
  },
  "cells": [
    {
      "cell_type": "markdown",
      "metadata": {
        "id": "view-in-github",
        "colab_type": "text"
      },
      "source": [
        "<a href=\"https://colab.research.google.com/github/JorgitoJ/ChatPDF/blob/main/ChatBotMarketing.ipynb\" target=\"_parent\"><img src=\"https://colab.research.google.com/assets/colab-badge.svg\" alt=\"Open In Colab\"/></a>"
      ]
    },
    {
      "cell_type": "code",
      "source": [
        "!pip install -q groq"
      ],
      "metadata": {
        "id": "LxfRLuqgX6BY"
      },
      "execution_count": null,
      "outputs": []
    },
    {
      "cell_type": "code",
      "execution_count": null,
      "metadata": {
        "id": "opscWj8MX4vW"
      },
      "outputs": [],
      "source": [
        "from groq import Groq\n",
        "\n",
        "\n",
        "client = Groq(\n",
        "    api_key='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',\n",
        ")\n",
        "\n",
        "\n",
        "conversation_history = [\n",
        "    {\n",
        "        \"role\": \"system\",\n",
        "        \"content\": \"Eres un experto en marketing y ayudas a los creadores de contenido a crear videos promocionales profesionales en CapCut.\"\n",
        "    }\n",
        "]\n",
        "\n",
        "def chat_with_memory(user_message):\n",
        "    global conversation_history\n",
        "\n",
        "\n",
        "    conversation_history.append({\n",
        "        \"role\": \"user\",\n",
        "        \"content\": user_message\n",
        "    })\n",
        "\n",
        "\n",
        "    chat_completion = client.chat.completions.create(\n",
        "        messages=conversation_history,\n",
        "        model=\"llama3-70b-8192\",\n",
        "        temperature=0.5,\n",
        "        max_tokens=1024,\n",
        "        top_p=1,\n",
        "        stream=False\n",
        "    )\n",
        "\n",
        "\n",
        "    assistant_response = chat_completion.choices[0].message.content\n",
        "\n",
        "    conversation_history.append({\n",
        "        \"role\": \"assistant\",\n",
        "        \"content\": assistant_response\n",
        "    })\n",
        "\n",
        "\n",
        "    print(\"Asistente:\", assistant_response)\n",
        "\n",
        "\n",
        "while True:\n",
        "    user_input = input(\"Tú: \")\n",
        "    if user_input.lower() == \"salir\":\n",
        "        break\n",
        "    chat_with_memory(user_input)\n"
      ]
    }
  ]
}